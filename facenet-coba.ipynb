{
 "cells": [
  {
   "cell_type": "code",
   "execution_count": 1,
   "id": "2435f81b",
   "metadata": {},
   "outputs": [],
   "source": [
    "import os\n",
    "import json\n",
    "import numpy as np\n",
    "from tensorflow.keras.preprocessing import image\n",
    "from facenetlib.Facenet_standalone import InceptionResNetV1"
   ]
  },
  {
   "cell_type": "code",
   "execution_count": 2,
   "id": "06911672",
   "metadata": {},
   "outputs": [
    {
     "name": "stdout",
     "output_type": "stream",
     "text": [
      "✅ Model dan bobot berhasil dimuat.\n"
     ]
    }
   ],
   "source": [
    "model = InceptionResNetV1(dimension=512)\n",
    "model.load_weights(\"facenetlib/facenet512_weights.h5\")  # ubah path jika perlu\n",
    "print(\"✅ Model dan bobot berhasil dimuat.\")\n"
   ]
  },
  {
   "cell_type": "code",
   "execution_count": null,
   "id": "636923ac",
   "metadata": {},
   "outputs": [
    {
     "name": "stdout",
     "output_type": "stream",
     "text": [
      "✅ Model Facenet512 berhasil dimuat.\n",
      "📷 Memproses: 7f38b75bc0a1e7cc77324323e7_f-0.jpg\n",
      "📷 Memproses: WhatsApp Image 2025-07-30 at 16.57.34_f-0.jpg\n",
      "📷 Memproses: WhatsApp Image 2025-07-30 at 16.57.37_f-0.jpg\n",
      "📷 Memproses: WhatsApp Image 2025-07-30 at 16.57.47_f-0.jpg\n",
      "📷 Memproses: WhatsApp Image 2025-07-30 at 16.57.48_f-0.jpg\n",
      "✅ Embeddings disimpan di embeddings.json\n"
     ]
    }
   ],
   "source": [
    "import os\n",
    "import json\n",
    "import numpy as np\n",
    "from tensorflow.keras.preprocessing import image\n",
    "from facenetlib.Facenet_standalone import InceptionResNetV1\n",
    "from facenetlib import preprocessing, image_utils\n",
    "\n",
    "# === Load model Facenet512 ===\n",
    "model = InceptionResNetV1(dimension=512)\n",
    "model.load_weights(\"facenetlib/facenet512_weights.h5\")  # sesuaikan path\n",
    "print(\"✅ Model Facenet512 berhasil dimuat.\")\n",
    "\n",
    "# === Preprocess gambar untuk Facenet (versi DeepFace) ===\n",
    "def preprocess_image(img_path):\n",
    "    # Load gambar RGB\n",
    "    img_rgb, _ = image_utils.load_image(img_path)\n",
    "    \n",
    "    # Resize ke target size Facenet\n",
    "    img_resized = preprocessing.resize_image(img_rgb, target_size=(160, 160))\n",
    "    \n",
    "    # Normalisasi sesuai standar Facenet\n",
    "    img_normalized = preprocessing.normalize_input(img_resized, normalization=\"base\")\n",
    "    \n",
    "    # Pastikan shape input (1, 160, 160, 3)\n",
    "    if img_normalized.ndim == 3:\n",
    "        img_normalized = np.expand_dims(img_normalized, axis=0)\n",
    "    elif img_normalized.ndim == 4 and img_normalized.shape[0] == 1:\n",
    "        pass\n",
    "    else:\n",
    "        raise ValueError(f\"Bentuk input tidak dikenali: {img_normalized.shape}\")\n",
    "    \n",
    "    return img_normalized\n",
    "\n",
    "# === Ekstrak embedding ===\n",
    "def get_embedding(img_path):\n",
    "    preprocessed = preprocess_image(img_path)\n",
    "    embedding = model.predict(preprocessed, verbose=0)\n",
    "    return embedding[0].astype(float).tolist()\n",
    "\n",
    "# === Folder gambar ===\n",
    "input_folder = \"cropted_faces\"  # ganti ke path folder kamu\n",
    "output_json = \"embeddings.json\"\n",
    "\n",
    "embeddings_dict = {}\n",
    "\n",
    "# Loop semua file di folder\n",
    "for filename in os.listdir(input_folder):\n",
    "    if filename.lower().endswith((\".png\", \".jpg\", \".jpeg\")):\n",
    "        img_path = os.path.join(input_folder, filename)\n",
    "        print(f\"📷 Memproses: {filename}\")\n",
    "        try:\n",
    "            embeddings_dict[filename] = get_embedding(img_path)\n",
    "        except Exception as e:\n",
    "            print(f\"⚠️ Gagal memproses {filename}: {e}\")\n",
    "\n",
    "# Simpan ke JSON\n",
    "with open(output_json, \"w\") as f:\n",
    "    json.dump(embeddings_dict, f, indent=2)\n",
    "\n",
    "print(f\"✅ Embeddings disimpan di {output_json}\")\n"
   ]
  }
 ],
 "metadata": {
  "kernelspec": {
   "display_name": ".venv",
   "language": "python",
   "name": "python3"
  },
  "language_info": {
   "codemirror_mode": {
    "name": "ipython",
    "version": 3
   },
   "file_extension": ".py",
   "mimetype": "text/x-python",
   "name": "python",
   "nbconvert_exporter": "python",
   "pygments_lexer": "ipython3",
   "version": "3.9.7"
  }
 },
 "nbformat": 4,
 "nbformat_minor": 5
}
